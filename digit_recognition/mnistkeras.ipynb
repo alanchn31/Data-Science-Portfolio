{
 "cells": [
  {
   "cell_type": "markdown",
   "metadata": {
    "_uuid": "518ac45696d601007f2cc141c95f10443327c9e6"
   },
   "source": [
    "**MNIST Notebook by Alan Choon Zhen Yu**"
   ]
  },
  {
   "cell_type": "code",
   "execution_count": 12,
   "metadata": {
    "_uuid": "5a43052e426849ee084fd7836baf9732ca4b4adf",
    "collapsed": true
   },
   "outputs": [],
   "source": [
    "import pandas as pd\n",
    "import numpy as np\n",
    "import math\n",
    "import scipy\n",
    "import matplotlib.pyplot as plt\n",
    "\n",
    "%matplotlib inline\n",
    "np.random.seed(1)"
   ]
  },
  {
   "cell_type": "code",
   "execution_count": 13,
   "metadata": {
    "_uuid": "8cc3ae1c938faa26441af8462994b8d71476dea3",
    "collapsed": true
   },
   "outputs": [],
   "source": [
    "train = pd.read_csv(\"../input/train.csv\")"
   ]
  },
  {
   "cell_type": "code",
   "execution_count": 14,
   "metadata": {
    "_uuid": "5e3676862cd1bc649ffa423b54b4351bd20665ee",
    "collapsed": true
   },
   "outputs": [],
   "source": [
    "Y_train = train[\"label\"]\n",
    "X_train = train.drop(labels='label',axis=1)"
   ]
  },
  {
   "cell_type": "code",
   "execution_count": 5,
   "metadata": {
    "_uuid": "663f7a3788bd80ddf62b295b3e6485e850dba7f3",
    "collapsed": true
   },
   "outputs": [],
   "source": [
    "X_train.head()"
   ]
  },
  {
   "cell_type": "code",
   "execution_count": 6,
   "metadata": {
    "_uuid": "a7dbc81c1973cdd10266b8e324ebd4b7ad2bee2f",
    "collapsed": true
   },
   "outputs": [],
   "source": [
    "Y_train.head()"
   ]
  },
  {
   "cell_type": "code",
   "execution_count": 15,
   "metadata": {
    "_uuid": "11cce9d683f4bdbe392e8a58df4bf06725973ecd",
    "collapsed": true
   },
   "outputs": [],
   "source": [
    "y_r=pd.DataFrame(Y_train.values.reshape(Y_train.shape[0],1))"
   ]
  },
  {
   "cell_type": "markdown",
   "metadata": {
    "_uuid": "1a0a5e97c9bac1bad7492fd320817ea8c58551d5"
   },
   "source": [
    "**One Hot Encoding:**"
   ]
  },
  {
   "cell_type": "code",
   "execution_count": 16,
   "metadata": {
    "_uuid": "7f1db40959129348baea9a66a046c958aa0cd4a5",
    "collapsed": true
   },
   "outputs": [],
   "source": [
    "from sklearn.preprocessing import OneHotEncoder\n",
    "enc = OneHotEncoder(sparse=False)\n",
    "#Change the column to a 2-dim array\n",
    "y_r = enc.fit_transform(y_r)"
   ]
  },
  {
   "cell_type": "code",
   "execution_count": 17,
   "metadata": {
    "_uuid": "b99b29ad31e2266c93754e24cb332d7461c888f6",
    "collapsed": true
   },
   "outputs": [],
   "source": [
    "pd.DataFrame(y_r).head()"
   ]
  },
  {
   "cell_type": "markdown",
   "metadata": {
    "_uuid": "f9bcdf2a0a762a5785a5ad07c0305bba4f537848"
   },
   "source": [
    "**Split Dataset into training and development sets:**"
   ]
  },
  {
   "cell_type": "code",
   "execution_count": 18,
   "metadata": {
    "_uuid": "2bd7c464029a1b0761e1ed774b523ed62ed8b8c6",
    "collapsed": true
   },
   "outputs": [],
   "source": [
    "from sklearn.model_selection import train_test_split\n",
    "x_train, x_test, y_train, y_test = train_test_split(X_train, y_r, test_size=0.20, random_state=101)"
   ]
  },
  {
   "cell_type": "markdown",
   "metadata": {
    "_uuid": "69699ffd134fc804f8354e8c7489324bb7f1beae"
   },
   "source": [
    "**Training a Decision Tree Classifier:**"
   ]
  },
  {
   "cell_type": "code",
   "execution_count": 11,
   "metadata": {
    "_uuid": "bc5045d868077f03e49549776d2f7fbddcf49a5a",
    "collapsed": true
   },
   "outputs": [],
   "source": [
    "from sklearn.tree import DecisionTreeClassifier\n",
    "dtree = DecisionTreeClassifier()\n",
    "dtree.fit(x_train,y_train)"
   ]
  },
  {
   "cell_type": "code",
   "execution_count": 12,
   "metadata": {
    "_uuid": "cbd301b372315c5daa12c741740f36fb08f6d59b",
    "collapsed": true
   },
   "outputs": [],
   "source": [
    "from sklearn.metrics import accuracy_score, classification_report\n",
    "dectreepred = dtree.predict(x_test)\n",
    "print(accuracy_score(y_test,dectreepred))"
   ]
  },
  {
   "cell_type": "code",
   "execution_count": 13,
   "metadata": {
    "_uuid": "430e4c5c4b58c9f4c4d943fafdf4abd9d0d435a8",
    "collapsed": true
   },
   "outputs": [],
   "source": [
    "print(classification_report(y_test,dectreepred))"
   ]
  },
  {
   "cell_type": "markdown",
   "metadata": {
    "_uuid": "9b36db51cb51018694b5f280ee348484f5995b37"
   },
   "source": [
    "Hurray for Decision Tree Classifier! Seems like performance on the development set is already not bad, with an accuracy of ~85%.\n",
    "Accuracy can be improved further with more advanced classifiers!"
   ]
  },
  {
   "cell_type": "markdown",
   "metadata": {
    "_uuid": "bd6ca5d584580c8f7282f86e09b0c13d2c7321e2"
   },
   "source": [
    "**Training a Random Forest Model:**"
   ]
  },
  {
   "cell_type": "code",
   "execution_count": 14,
   "metadata": {
    "_uuid": "13ab9741e2fca5070662a49d17e0fa7a4bea7e13",
    "collapsed": true
   },
   "outputs": [],
   "source": [
    "from sklearn.ensemble import RandomForestClassifier\n",
    "rf = RandomForestClassifier()\n",
    "rf.fit(x_train,y_train)"
   ]
  },
  {
   "cell_type": "code",
   "execution_count": 15,
   "metadata": {
    "_uuid": "1a17e3fcdc3efff459ad11cdc97abcc88414e33c",
    "collapsed": true
   },
   "outputs": [],
   "source": [
    "rfprediction = rf.predict(x_test)\n",
    "print(accuracy_score(y_test,rfprediction))"
   ]
  },
  {
   "cell_type": "code",
   "execution_count": 16,
   "metadata": {
    "_uuid": "c9f7476d1a84956a2b4ac858fdee240e43a5f706",
    "collapsed": true
   },
   "outputs": [],
   "source": [
    "print(classification_report(y_test,rfprediction))"
   ]
  },
  {
   "cell_type": "markdown",
   "metadata": {
    "_uuid": "cf6bb5d3d1728b29f7ee62261b9b53061cab1d94"
   },
   "source": [
    "Surprisingly, Random Forests Classifier does worse than decision tree, in terms of accuracy although random forests does have a higher f1 score and precision.\n",
    "Accuracy might be boosted further with neural networks."
   ]
  },
  {
   "cell_type": "code",
   "execution_count": 27,
   "metadata": {
    "_uuid": "af607cd1593f0d568e41fb32c0c3990e449f192c",
    "collapsed": true
   },
   "outputs": [],
   "source": [
    "x_train_nn = x_train.values\n",
    "x_test_nn = x_test.values"
   ]
  },
  {
   "cell_type": "code",
   "execution_count": 28,
   "metadata": {
    "_uuid": "8cd45a21fb64b673189ce99411631f98c4181ed8",
    "collapsed": true
   },
   "outputs": [],
   "source": [
    "x_train_nn.shape"
   ]
  },
  {
   "cell_type": "code",
   "execution_count": 29,
   "metadata": {
    "_uuid": "ed8faf4978ca1c40045839818be60017b4515852",
    "collapsed": true
   },
   "outputs": [],
   "source": [
    "x_train_nn = np.reshape(x_train_nn, (-1,28,28,1))\n",
    "x_train_nn.shape"
   ]
  },
  {
   "cell_type": "code",
   "execution_count": 30,
   "metadata": {
    "_uuid": "ad250e84177e5ae2687107d5063fa82ba21ae0f9",
    "collapsed": true
   },
   "outputs": [],
   "source": [
    "x_test_nn.shape"
   ]
  },
  {
   "cell_type": "code",
   "execution_count": 31,
   "metadata": {
    "_uuid": "9701bee168cbe085ddbbefe00215d0a27bf3c54d",
    "collapsed": true
   },
   "outputs": [],
   "source": [
    "x_test_nn = np.reshape(x_test_nn, (-1,28,28,1))\n",
    "x_test_nn.shape"
   ]
  },
  {
   "cell_type": "code",
   "execution_count": 22,
   "metadata": {
    "_uuid": "835d99ba1544581d126bed227ba4bdb7a051cf32",
    "collapsed": true
   },
   "outputs": [],
   "source": [
    "y_train.shape"
   ]
  },
  {
   "cell_type": "code",
   "execution_count": 23,
   "metadata": {
    "_uuid": "8f841e7815f5b906e6a4e7c95bcce9738ff9b93f",
    "collapsed": true
   },
   "outputs": [],
   "source": [
    "y_test.shape"
   ]
  },
  {
   "cell_type": "markdown",
   "metadata": {
    "_uuid": "38020393d1aec2d93c651ed8ea1769de344780b9"
   },
   "source": [
    "**Convolutional Neural Network:**\n",
    "\n",
    "* The model below takes inspiration from Convolutional Neural Networks course taught by deeplearning.ai\n",
    "\n",
    " as well as from: https://www.tensorflow.org/tutorials/layers and http://adventuresinmachinelearning.com/keras-tutorial-cnn-11-lines/\n",
    " \n",
    "* Keras shall be used."
   ]
  },
  {
   "cell_type": "code",
   "execution_count": 32,
   "metadata": {
    "_uuid": "86947efd46442bc463e0dc1770770537a15e77fc",
    "collapsed": true
   },
   "outputs": [],
   "source": [
    "x_train_nn = x_train_nn/255\n",
    "x_test_nn = x_test_nn/255"
   ]
  },
  {
   "cell_type": "code",
   "execution_count": 3,
   "metadata": {
    "_uuid": "9ab6d4d0a599dc06fd1adf8b1ca34d1750df11ce",
    "collapsed": true
   },
   "outputs": [],
   "source": [
    "import tensorflow as tf\n",
    "from tensorflow.python.framework import ops\n",
    "import keras\n",
    "from keras.layers import Dense, Flatten, Dropout\n",
    "from keras.layers import Conv2D, MaxPooling2D\n",
    "from keras.models import Sequential"
   ]
  },
  {
   "cell_type": "markdown",
   "metadata": {
    "_uuid": "cc3d6a0d8b399ae85209137c3f182b75e9c2868e"
   },
   "source": [
    "**Model:**"
   ]
  },
  {
   "cell_type": "code",
   "execution_count": 53,
   "metadata": {
    "_uuid": "ea798dea102b99ae543f60cbacc1b112e36d0f73",
    "collapsed": true
   },
   "outputs": [],
   "source": [
    "model = Sequential()"
   ]
  },
  {
   "cell_type": "markdown",
   "metadata": {
    "_uuid": "1ef1ce41ad1dba9f58f0c6d72f2bc4136d920ea8"
   },
   "source": [
    "Models in Keras come in two forms: Sequential and through the Functional API. For most deep learning networks, Sequential model is likely used.\n",
    "\n",
    "Sequential layers (and even recurrent layers) of the network can be stacked in order from input to output"
   ]
  },
  {
   "cell_type": "code",
   "execution_count": 54,
   "metadata": {
    "_uuid": "323aa6344448e62d8976db0b723591091ab6beaf",
    "collapsed": true
   },
   "outputs": [],
   "source": [
    "input_shape = (28,28,1)\n",
    "model.add(Conv2D(32,kernel_size=(5,5),strides=(1,1),activation='relu',input_shape = input_shape))\n",
    "model.add(MaxPooling2D(pool_size=(2,2),strides=(2,2)))\n",
    "model.add(Conv2D(64,kernel_size=(5,5),strides=(1,1),activation='relu'))\n",
    "model.add(MaxPooling2D(pool_size=(2,2),strides=(2,2)))\n",
    "model.add(Flatten())\n",
    "model.add(Dense(1024,activation='relu'))\n",
    "model.add(Dropout(0.4))\n",
    "model.add(Dense(10,activation='softmax'))"
   ]
  },
  {
   "cell_type": "code",
   "execution_count": 55,
   "metadata": {
    "_uuid": "6b3802906292890cc635983ed16646434a7131dc",
    "collapsed": true
   },
   "outputs": [],
   "source": [
    "model.compile(loss=keras.losses.categorical_crossentropy,optimizer=keras.optimizers.Adam(),metrics=['accuracy'])"
   ]
  },
  {
   "cell_type": "markdown",
   "metadata": {
    "_uuid": "975f8c8049dbee72cdfe97419cef3f91d6e0b841"
   },
   "source": [
    "**Logging Metrics in Keras:**\n",
    "\n",
    "\"callbacks\" can be used to create checkpoints to save the model at different stages of training"
   ]
  },
  {
   "cell_type": "code",
   "execution_count": 57,
   "metadata": {
    "_uuid": "bca2f1519400c949e86b6015a465d6075dc13884"
   },
   "outputs": [],
   "source": [
    "class AccuracyHistory(keras.callbacks.Callback):\n",
    "    def on_train_begin(self, logs={}):\n",
    "        self.acc = []\n",
    "        \n",
    "    def on_epoch_end(self,batch,logs={}):\n",
    "        self.acc.append(logs.get('acc'))"
   ]
  },
  {
   "cell_type": "markdown",
   "metadata": {
    "_uuid": "cf795fa60bb2130911396d06a36b382f7f08a20d"
   },
   "source": [
    "The Callback superclass that AccuracyHistory inherits from, have several methods that can be overridden  such as on_train_begin, on_epoch_end, on_batch_begin and on_batch_end. \n",
    "\n",
    "At the beginning of training, A list self.acc = [] is initialized to store our accuracy results.\n",
    "\n",
    "Using the on_epoch_end() method, the variable wanted can be extracted from the logs, which is a dictionary that holds, as a default, the loss and accuracy during training"
   ]
  },
  {
   "cell_type": "code",
   "execution_count": 58,
   "metadata": {
    "_uuid": "427c5e49c26264080c2c9cdf5fb325dbc435e8df",
    "collapsed": true
   },
   "outputs": [],
   "source": [
    "history = AccuracyHistory()"
   ]
  },
  {
   "cell_type": "code",
   "execution_count": 65,
   "metadata": {
    "_uuid": "67b804db7a47f73bf0c123b28bca1e0a1c5c93c3"
   },
   "outputs": [
    {
     "name": "stdout",
     "output_type": "stream",
     "text": [
      "Train on 33600 samples, validate on 8400 samples\n",
      "Epoch 1/30\n",
      "33600/33600 [==============================] - 3s 78us/step - loss: 5.1653e-04 - acc: 1.0000 - val_loss: 0.0412 - val_acc: 0.9932\n",
      "Epoch 2/30\n",
      "33600/33600 [==============================] - 2s 64us/step - loss: 5.1999e-04 - acc: 0.9999 - val_loss: 0.0411 - val_acc: 0.9932\n",
      "Epoch 3/30\n",
      "33600/33600 [==============================] - 2s 64us/step - loss: 4.9149e-04 - acc: 1.0000 - val_loss: 0.0409 - val_acc: 0.9933\n",
      "Epoch 4/30\n",
      "33600/33600 [==============================] - 2s 63us/step - loss: 5.1399e-04 - acc: 1.0000 - val_loss: 0.0405 - val_acc: 0.9935\n",
      "Epoch 5/30\n",
      "33600/33600 [==============================] - 2s 63us/step - loss: 5.0579e-04 - acc: 1.0000 - val_loss: 0.0411 - val_acc: 0.9932\n",
      "Epoch 6/30\n",
      "33600/33600 [==============================] - 2s 63us/step - loss: 5.0443e-04 - acc: 1.0000 - val_loss: 0.0401 - val_acc: 0.9930\n",
      "Epoch 7/30\n",
      "33600/33600 [==============================] - 2s 63us/step - loss: 4.8983e-04 - acc: 1.0000 - val_loss: 0.0400 - val_acc: 0.9935\n",
      "Epoch 8/30\n",
      "33600/33600 [==============================] - 2s 62us/step - loss: 4.9573e-04 - acc: 1.0000 - val_loss: 0.0395 - val_acc: 0.9932\n",
      "Epoch 9/30\n",
      "33600/33600 [==============================] - 2s 62us/step - loss: 4.8801e-04 - acc: 1.0000 - val_loss: 0.0395 - val_acc: 0.9930\n",
      "Epoch 10/30\n",
      "33600/33600 [==============================] - 2s 62us/step - loss: 4.9229e-04 - acc: 1.0000 - val_loss: 0.0399 - val_acc: 0.9930\n",
      "Epoch 11/30\n",
      "33600/33600 [==============================] - 2s 62us/step - loss: 4.8669e-04 - acc: 1.0000 - val_loss: 0.0399 - val_acc: 0.9931\n",
      "Epoch 12/30\n",
      "33600/33600 [==============================] - 2s 63us/step - loss: 4.8653e-04 - acc: 1.0000 - val_loss: 0.0397 - val_acc: 0.9931\n",
      "Epoch 13/30\n",
      "33600/33600 [==============================] - 2s 63us/step - loss: 4.8928e-04 - acc: 1.0000 - val_loss: 0.0402 - val_acc: 0.9932\n",
      "Epoch 14/30\n",
      "33600/33600 [==============================] - 2s 62us/step - loss: 4.8744e-04 - acc: 1.0000 - val_loss: 0.0395 - val_acc: 0.9930\n",
      "Epoch 15/30\n",
      "33600/33600 [==============================] - 2s 62us/step - loss: 4.8708e-04 - acc: 1.0000 - val_loss: 0.0397 - val_acc: 0.9930\n",
      "Epoch 16/30\n",
      "33600/33600 [==============================] - 2s 62us/step - loss: 4.8747e-04 - acc: 1.0000 - val_loss: 0.0394 - val_acc: 0.9931\n",
      "Epoch 17/30\n",
      "33600/33600 [==============================] - 2s 62us/step - loss: 4.8598e-04 - acc: 1.0000 - val_loss: 0.0393 - val_acc: 0.9930\n",
      "Epoch 18/30\n",
      "33600/33600 [==============================] - 2s 63us/step - loss: 4.8459e-04 - acc: 1.0000 - val_loss: 0.0393 - val_acc: 0.9929\n",
      "Epoch 19/30\n",
      "33600/33600 [==============================] - 2s 62us/step - loss: 4.8758e-04 - acc: 1.0000 - val_loss: 0.0393 - val_acc: 0.9930\n",
      "Epoch 20/30\n",
      "33600/33600 [==============================] - 2s 62us/step - loss: 4.8554e-04 - acc: 1.0000 - val_loss: 0.0392 - val_acc: 0.9930\n",
      "Epoch 21/30\n",
      "33600/33600 [==============================] - 2s 62us/step - loss: 4.8343e-04 - acc: 1.0000 - val_loss: 0.0392 - val_acc: 0.9930\n",
      "Epoch 22/30\n",
      "33600/33600 [==============================] - 2s 62us/step - loss: 4.9018e-04 - acc: 1.0000 - val_loss: 0.0390 - val_acc: 0.9935\n",
      "Epoch 23/30\n",
      "33600/33600 [==============================] - 2s 62us/step - loss: 4.8612e-04 - acc: 1.0000 - val_loss: 0.0392 - val_acc: 0.9933\n",
      "Epoch 24/30\n",
      "33600/33600 [==============================] - 2s 62us/step - loss: 4.8649e-04 - acc: 1.0000 - val_loss: 0.0390 - val_acc: 0.9932\n",
      "Epoch 25/30\n",
      "33600/33600 [==============================] - 2s 62us/step - loss: 4.8806e-04 - acc: 1.0000 - val_loss: 0.0389 - val_acc: 0.9931\n",
      "Epoch 26/30\n",
      "33600/33600 [==============================] - 2s 62us/step - loss: 6.4964e-04 - acc: 0.9999 - val_loss: 0.0417 - val_acc: 0.9925\n",
      "Epoch 27/30\n",
      "33600/33600 [==============================] - 2s 62us/step - loss: 6.3511e-04 - acc: 0.9999 - val_loss: 0.0440 - val_acc: 0.9915\n",
      "Epoch 28/30\n",
      "33600/33600 [==============================] - 2s 62us/step - loss: 0.0012 - acc: 0.9998 - val_loss: 0.0433 - val_acc: 0.9935\n",
      "Epoch 29/30\n",
      "33600/33600 [==============================] - 2s 62us/step - loss: 8.8196e-04 - acc: 0.9998 - val_loss: 0.0443 - val_acc: 0.9927\n",
      "Epoch 30/30\n",
      "33600/33600 [==============================] - 2s 62us/step - loss: 6.9230e-04 - acc: 0.9999 - val_loss: 0.0472 - val_acc: 0.9925\n"
     ]
    },
    {
     "data": {
      "text/plain": [
       "<keras.callbacks.History at 0x7fb823e2db00>"
      ]
     },
     "execution_count": 65,
     "metadata": {},
     "output_type": "execute_result"
    }
   ],
   "source": [
    "batch_size = 1024\n",
    "epochs = 30\n",
    "model.fit(x_train_nn,y_train,batch_size=batch_size,epochs=epochs,verbose=1,validation_data=(x_test_nn,y_test),callbacks=[history])"
   ]
  },
  {
   "cell_type": "markdown",
   "metadata": {
    "_uuid": "e963373248803722312f6175841c42d68628ad86"
   },
   "source": [
    "With CNN, the development set accuracy has increased to a staggering ~99.9%!"
   ]
  },
  {
   "cell_type": "code",
   "execution_count": 66,
   "metadata": {
    "_uuid": "c1e5838079683845bc8dbdada90759e4eaf55aa1",
    "collapsed": true
   },
   "outputs": [],
   "source": [
    "test = pd.read_csv(\"../input/test.csv\")\n",
    "X_test = np.reshape(test.values,(-1,28,28,1))\n",
    "X_test = X_test/255\n",
    "preds = model.predict_classes(X_test)"
   ]
  },
  {
   "cell_type": "code",
   "execution_count": 61,
   "metadata": {
    "_uuid": "3d18ea2e517ef11eb81bfebf7ee08942bdc460e4",
    "collapsed": true
   },
   "outputs": [],
   "source": [
    "submit = pd.DataFrame(preds,columns=['Label'])"
   ]
  },
  {
   "cell_type": "code",
   "execution_count": 62,
   "metadata": {
    "_uuid": "a99966ea6467d0d41d14b0038fb0462759eaf24b",
    "collapsed": true
   },
   "outputs": [],
   "source": [
    "submit['ImageId'] = range(1,28001)"
   ]
  },
  {
   "cell_type": "code",
   "execution_count": 63,
   "metadata": {
    "_uuid": "ab9dc5543a621f0d269166439a6ef47d04528a16",
    "collapsed": true
   },
   "outputs": [],
   "source": [
    "submit = submit[['ImageId','Label']]\n",
    "submit.to_csv(\"submission2.csv\",index=False)"
   ]
  }
 ],
 "metadata": {
  "kernelspec": {
   "display_name": "Python 3",
   "language": "python",
   "name": "python3"
  },
  "language_info": {
   "codemirror_mode": {
    "name": "ipython",
    "version": 3
   },
   "file_extension": ".py",
   "mimetype": "text/x-python",
   "name": "python",
   "nbconvert_exporter": "python",
   "pygments_lexer": "ipython3",
   "version": "3.7.0"
  }
 },
 "nbformat": 4,
 "nbformat_minor": 1
}
